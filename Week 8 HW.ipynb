{
 "cells": [
  {
   "cell_type": "code",
   "execution_count": 13,
   "metadata": {},
   "outputs": [
    {
     "name": "stdout",
     "output_type": "stream",
     "text": [
      "The 2 solutions are: -0.000001 and -999999.999999\n"
     ]
    }
   ],
   "source": [
    "from math import sqrt\n",
    "\n",
    "a = 0.001\n",
    "b = 1000\n",
    "c = 0.001\n",
    "\n",
    "sq = b**2 - 4*a*c\n",
    "\n",
    "if sq > 0:\n",
    "    root = 2\n",
    "    sol1 = (((-b) + sqrt(sq))/(2*a))     \n",
    "    sol2 = (((-b) - sqrt(sq))/(2*a))\n",
    "    print(\"The 2 solutions are: %f and %f\" % (sol1, sol2))\n"
   ]
  },
  {
   "cell_type": "code",
   "execution_count": 14,
   "metadata": {},
   "outputs": [
    {
     "name": "stdout",
     "output_type": "stream",
     "text": [
      "The 2 solutions are: -999999.999999 and -0.000001\n"
     ]
    }
   ],
   "source": [
    "from math import sqrt\n",
    "\n",
    "a = 0.001\n",
    "b = 1000\n",
    "c = 0.001\n",
    "\n",
    "sq = b**2 - 4*a*c\n",
    "\n",
    "if sq > 0:\n",
    "    root = 2\n",
    "    sol1 = (((-b) - sqrt(sq))/(2*c))     \n",
    "    sol2 = (((-b) + sqrt(sq))/(2*c))\n",
    "    print(\"The 2 solutions are: %f and %f\" % (sol1, sol2))"
   ]
  },
  {
   "cell_type": "code",
   "execution_count": 16,
   "metadata": {},
   "outputs": [
    {
     "ename": "SyntaxError",
     "evalue": "invalid syntax (<ipython-input-16-f0e7d4827fa6>, line 19)",
     "output_type": "error",
     "traceback": [
      "\u001b[1;36m  File \u001b[1;32m\"<ipython-input-16-f0e7d4827fa6>\"\u001b[1;36m, line \u001b[1;32m19\u001b[0m\n\u001b[1;33m    except zerodivisionerror:\u001b[0m\n\u001b[1;37m    ^\u001b[0m\n\u001b[1;31mSyntaxError\u001b[0m\u001b[1;31m:\u001b[0m invalid syntax\n"
     ]
    }
   ],
   "source": [
    "from math import exp\n",
    "from scipy import integrate\n",
    "import scipy.special as special\n",
    "\n",
    "\n",
    "def cv(T):\n",
    "    V = 1000\n",
    "    p = 6.022e28\n",
    "    kb = 1.38064852e-28\n",
    "    theta_d = 428\n",
    "    trapz(theta_d/T,0)\n",
    "    f = lambda x:((x**4)*(e**x )/(e**x - 1)**(2))\n",
    "    int = integrate.quad(f, 0, theta_d/T)\n",
    "    cv = 9*V*p*kb*((T/theta_d)**3)*(int)\n",
    "    return cv(T)\n",
    "e = 10\n",
    "def trapz(x):\n",
    "    return ((x**4)*(e**x ) / (e**x - 1)**(2))\n",
    "    except zerodivisionerror:\n",
    "    trapz = 0\n",
    "      \n",
    "N = 1000\n",
    "a = 0.0\n",
    "b = 428.0\n",
    "h = (b-a)/N\n",
    "\n",
    "s = 0.5*trapz(a) + 0.5*trapz(b)\n",
    "for k in range(1, N):\n",
    "    s += trapz(a+k*h)\n",
    "print(h*s)\n",
    "\n",
    "import matplotlib.pyplot as plt \n",
    "  \n",
    "x = [5,500] \n",
    "y = [1000,1]   \n",
    "plt.plot(x, y,) \n",
    "plt.xlabel(\"Temperature (K)\")  \n",
    "plt.ylabel('cv') \n",
    "  \n",
    "plt.title(\"Heat Capacity of Aluminum\") \n",
    "plt.show() "
   ]
  },
  {
   "cell_type": "code",
   "execution_count": 15,
   "metadata": {
    "scrolled": true
   },
   "outputs": [
    {
     "data": {
      "image/png": "[encoded data removed]",
      "text/plain": [
       "<Figure size 432x288 with 1 Axes>"
      ]
     },
     "metadata": {
      "needs_background": "light"
     },
     "output_type": "display_data"
    }
   ],
   "source": [
    "import math\n",
    "from scipy import integrate\n",
    "import scipy.special as special\n",
    "\n",
    "def cv(T):\n",
    "    V = 1000\n",
    "    p = 6.022e28\n",
    "    kb = 1.38064852e-28\n",
    "    theta_d = 428\n",
    "    trapz(theta_d/T,0)\n",
    "    f = lambda x:((x**4)*(e**x )/(e**x - 1)**(2))\n",
    "    int = integrate.quad(f, 0, theta_d/T)\n",
    "    cv = 9*V*p*kb*((T/theta_d)**3) * (int)\n",
    "    return cv(T)\n",
    "\n",
    "import matplotlib.pyplot as plt \n",
    "  \n",
    "x = [5,500] \n",
    "y = [1000,1]   \n",
    "plt.plot(x, y) \n",
    "plt.xlabel(\"Temperature\")  \n",
    "plt.ylabel('cv') \n",
    "  \n",
    "plt.title(\"Heat Capacity of Aluminum\") \n",
    "plt.show() "
   ]
  },
  {
   "cell_type": "code",
   "execution_count": 34,
   "metadata": {},
   "outputs": [],
   "source": []
  }
 ],
 "metadata": {
  "kernelspec": {
   "display_name": "Python 3",
   "language": "python",
   "name": "python3"
  },
  "language_info": {
   "codemirror_mode": {
    "name": "ipython",
    "version": 3
   },
   "file_extension": ".py",
   "mimetype": "text/x-python",
   "name": "python",
   "nbconvert_exporter": "python",
   "pygments_lexer": "ipython3",
   "version": "3.8.3"
  }
 },
 "nbformat": 4,
 "nbformat_minor": 4
}
